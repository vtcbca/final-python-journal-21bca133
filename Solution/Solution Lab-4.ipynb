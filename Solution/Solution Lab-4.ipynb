{
 "cells": [
  {
   "cell_type": "code",
   "execution_count": 1,
   "id": "147088be",
   "metadata": {},
   "outputs": [],
   "source": [
    "import pandas as pd"
   ]
  },
  {
   "cell_type": "code",
   "execution_count": 2,
   "id": "83bfb12c",
   "metadata": {},
   "outputs": [],
   "source": [
    "def solution1():\n",
    "    \n",
    "    data = [[1,2,3,4,5,6,7,8,9,10],['AA','AB','AC','AD','AE','BA','BB','BC','BD','BE']]\n",
    "\n",
    "    df=pd.DataFrame(data)\n",
    "\n",
    "    print('Solution 1 :','\\n\\n',df,'\\n\\n')\n"
   ]
  },
  {
   "cell_type": "code",
   "execution_count": 3,
   "id": "ec9e5ec5",
   "metadata": {},
   "outputs": [],
   "source": [
    "def solution2():\n",
    "\n",
    "    data_list = {'Student': ['Rutvik','Pankti','Evaan','Dhyan'],\n",
    "                'City': ['Pune','Delhi','Surat','Houston'],\n",
    "                'Age': [22,16,5,13]}\n",
    "\n",
    "    print('Solution 2 :','\\n\\n',data_list,'\\n\\n')\n"
   ]
  },
  {
   "cell_type": "code",
   "execution_count": 4,
   "id": "5812f411",
   "metadata": {},
   "outputs": [],
   "source": [
    "def solution3():\n",
    "\n",
    "    data_list = {'Student': ['Rutvik','Pankti','Evaan','Dhyan'],\n",
    "                'City': ['Pune','Delhi','Surat','Houston'],\n",
    "                'Age': [22,16,5,13]}\n",
    "\n",
    "    df = pd.DataFrame(data_list)\n",
    "\n",
    "    print('Solution 3 :','\\n\\n',df)"
   ]
  },
  {
   "cell_type": "code",
   "execution_count": 6,
   "id": "e27b93cf",
   "metadata": {},
   "outputs": [
    {
     "name": "stdout",
     "output_type": "stream",
     "text": [
      "Solution 1 : \n",
      "\n",
      "     0   1   2   3   4   5   6   7   8   9\n",
      "0   1   2   3   4   5   6   7   8   9  10\n",
      "1  AA  AB  AC  AD  AE  BA  BB  BC  BD  BE \n",
      "\n",
      "\n",
      "Solution 2 : \n",
      "\n",
      " {'Student': ['Rutvik', 'Pankti', 'Evaan', 'Dhyan'], 'City': ['Pune', 'Delhi', 'Surat', 'Houston'], 'Age': [22, 16, 5, 13]} \n",
      "\n",
      "\n",
      "Solution 3 : \n",
      "\n",
      "   Student     City  Age\n",
      "0  Rutvik     Pune   22\n",
      "1  Pankti    Delhi   16\n",
      "2   Evaan    Surat    5\n",
      "3   Dhyan  Houston   13\n"
     ]
    }
   ],
   "source": [
    "solution1()\n",
    "solution2()\n",
    "solution3()"
   ]
  },
  {
   "cell_type": "code",
   "execution_count": null,
   "id": "2ad3bac2",
   "metadata": {},
   "outputs": [],
   "source": []
  }
 ],
 "metadata": {
  "kernelspec": {
   "display_name": "Python 3 (ipykernel)",
   "language": "python",
   "name": "python3"
  },
  "language_info": {
   "codemirror_mode": {
    "name": "ipython",
    "version": 3
   },
   "file_extension": ".py",
   "mimetype": "text/x-python",
   "name": "python",
   "nbconvert_exporter": "python",
   "pygments_lexer": "ipython3",
   "version": "3.10.7"
  }
 },
 "nbformat": 4,
 "nbformat_minor": 5
}
