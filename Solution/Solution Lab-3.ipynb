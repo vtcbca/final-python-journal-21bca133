{
 "cells": [
  {
   "cell_type": "code",
   "execution_count": 5,
   "id": "af6dbcf8",
   "metadata": {},
   "outputs": [],
   "source": [
    "import pandas as pd\n",
    "import csv"
   ]
  },
  {
   "cell_type": "code",
   "execution_count": 6,
   "id": "2a4eb6fd",
   "metadata": {},
   "outputs": [],
   "source": [
    "def sol1():\n",
    "    \n",
    "    print(\"\\nSolution 1 : \\n\\n\")\n",
    "\n",
    "    with open('jyoti.csv','w',newline='') as file_obj:\n",
    "        \n",
    "        wr_obj = csv.writer(file_obj)\n",
    "\n",
    "        header = ['empid','empname','department','experience','salary']\n",
    "\n",
    "        wr_obj.writerow(header)\n",
    "\n",
    "        data = [['1','jyoti','BCA','1 Years','10000'],\n",
    "                ['2','jyoti','BCA','2 Years','30000'],\n",
    "                ['3','jyoti','BBA','3 Years','30000'],\n",
    "                ['4','jyoti','BCA','4 Years','40000'],\n",
    "                ['5','jyoti','BBA','5 Years','50000']]\n",
    "\n",
    "        wr_obj.writerows(data)\n",
    "\n",
    "        print(\"Header Done ! \")"
   ]
  },
  {
   "cell_type": "code",
   "execution_count": 7,
   "id": "42924889",
   "metadata": {},
   "outputs": [],
   "source": [
    "def sol2():\n",
    "    \n",
    "    print(\"\\nSolution 2 : \\n\\n\")\n",
    "\n",
    "    with open('jyoti.csv','r') as file_obj:\n",
    "\n",
    "        rd_obj = csv.reader(file_obj)\n",
    "\n",
    "        for line in rd_obj:\n",
    "            print(line)"
   ]
  },
  {
   "cell_type": "code",
   "execution_count": 8,
   "id": "4e83586d",
   "metadata": {},
   "outputs": [],
   "source": [
    "def sol3():\n",
    "    \n",
    "    print(\"\\nSolution 3 : \\n\\n\")\n",
    "\n",
    "    with open('jyoti.csv','a',newline='') as file_obj:\n",
    "\n",
    "        wr_obj = csv.writer(file_obj)\n",
    "\n",
    "        data = [['6','jyoti','BCA','6 Years','30000'],\n",
    "                ['7','jyoti','BBA','7 Years','30000']]\n",
    "\n",
    "        wr_obj.writerows(data)\n",
    "\n",
    "        print('Data Append Successfull ! ')"
   ]
  },
  {
   "cell_type": "code",
   "execution_count": 9,
   "id": "621cacb1",
   "metadata": {},
   "outputs": [],
   "source": [
    "def sol4():\n",
    "    \n",
    "    print(\"\\nSolution 4 : \\n\\n\")\n",
    "        \n",
    "    with open('jyoti.csv','r') as file_obj:\n",
    "\n",
    "        rd_obj = csv.reader(file_obj)\n",
    "\n",
    "        for line in rd_obj:    \n",
    "            if 'BCA' in line:\n",
    "                print(line[-1])"
   ]
  },
  {
   "cell_type": "code",
   "execution_count": 10,
   "id": "d0a32472",
   "metadata": {},
   "outputs": [],
   "source": [
    "def sol5():\n",
    "    \n",
    "    print(\"\\nSolution 5 : \\n\\n\")\n",
    "\n",
    "    df = pd.read_csv('jyoti.csv')\n",
    "\n",
    "    print(df) "
   ]
  },
  {
   "cell_type": "code",
   "execution_count": 11,
   "id": "18d40408",
   "metadata": {},
   "outputs": [
    {
     "name": "stdout",
     "output_type": "stream",
     "text": [
      "\n",
      "Solution 1 : \n",
      "\n",
      "\n",
      "Header Done ! \n",
      "\n",
      "Solution 2 : \n",
      "\n",
      "\n",
      "['empid', 'empname', 'department', 'experience', 'salary']\n",
      "['1', 'jyoti', 'BCA', '1 Years', '10000']\n",
      "['2', 'jyoti', 'BCA', '2 Years', '30000']\n",
      "['3', 'jyoti', 'BBA', '3 Years', '30000']\n",
      "['4', 'jyoti', 'BCA', '4 Years', '40000']\n",
      "['5', 'jyoti', 'BBA', '5 Years', '50000']\n",
      "\n",
      "Solution 3 : \n",
      "\n",
      "\n",
      "Data Append Successfull ! \n",
      "\n",
      "Solution 4 : \n",
      "\n",
      "\n",
      "10000\n",
      "30000\n",
      "40000\n",
      "30000\n",
      "\n",
      "Solution 5 : \n",
      "\n",
      "\n",
      "   empid empname department experience  salary\n",
      "0      1   jyoti        BCA    1 Years   10000\n",
      "1      2   jyoti        BCA    2 Years   30000\n",
      "2      3   jyoti        BBA    3 Years   30000\n",
      "3      4   jyoti        BCA    4 Years   40000\n",
      "4      5   jyoti        BBA    5 Years   50000\n",
      "5      6   jyoti        BCA    6 Years   30000\n",
      "6      7   jyoti        BBA    7 Years   30000\n"
     ]
    }
   ],
   "source": [
    "sol1()\n",
    "sol2()\n",
    "sol3()\n",
    "sol4()\n",
    "sol5()"
   ]
  }
 ],
 "metadata": {
  "kernelspec": {
   "display_name": "Python 3 (ipykernel)",
   "language": "python",
   "name": "python3"
  },
  "language_info": {
   "codemirror_mode": {
    "name": "ipython",
    "version": 3
   },
   "file_extension": ".py",
   "mimetype": "text/x-python",
   "name": "python",
   "nbconvert_exporter": "python",
   "pygments_lexer": "ipython3",
   "version": "3.10.7"
  }
 },
 "nbformat": 4,
 "nbformat_minor": 5
}
